{
 "cells": [
  {
   "cell_type": "code",
   "execution_count": 2,
   "metadata": {},
   "outputs": [
    {
     "name": "stdout",
     "output_type": "stream",
     "text": [
      "[{'end_byte': 44666, 'end_token': 161, 'start_byte': 43178, 'start_token': 44, 'top_level': True}, {'end_byte': 45901, 'end_token': 285, 'start_byte': 44667, 'start_token': 161, 'top_level': True}, {'end_byte': 49618, 'end_token': 547, 'start_byte': 48014, 'start_token': 343, 'top_level': True}, {'end_byte': 50364, 'end_token': 628, 'start_byte': 49619, 'start_token': 547, 'top_level': True}, {'end_byte': 50993, 'end_token': 701, 'start_byte': 50365, 'start_token': 628, 'top_level': True}, {'end_byte': 54876, 'end_token': 949, 'start_byte': 52946, 'start_token': 749, 'top_level': True}, {'end_byte': 56066, 'end_token': 1046, 'start_byte': 54877, 'start_token': 949, 'top_level': True}, {'end_byte': 56879, 'end_token': 1134, 'start_byte': 56067, 'start_token': 1046, 'top_level': True}, {'end_byte': 58656, 'end_token': 1304, 'start_byte': 57202, 'start_token': 1141, 'top_level': True}, {'end_byte': 60294, 'end_token': 1488, 'start_byte': 58657, 'start_token': 1304, 'top_level': True}]\n",
      "what purpose did seasonal monsoon winds have on trade\n",
      "Trade winds\n",
      "[{'annotation_id': 4323936797498927989, 'long_answer': {'candidate_index': -1, 'end_byte': -1, 'end_token': -1, 'start_byte': -1, 'start_token': -1}, 'short_answers': [], 'yes_no_answer': 'NONE'}, {'annotation_id': 13037645000009169623, 'long_answer': {'candidate_index': -1, 'end_byte': -1, 'end_token': -1, 'start_byte': -1, 'start_token': -1}, 'short_answers': [], 'yes_no_answer': 'NONE'}, {'annotation_id': 4439059471919323171, 'long_answer': {'candidate_index': -1, 'end_byte': -1, 'end_token': -1, 'start_byte': -1, 'start_token': -1}, 'short_answers': [], 'yes_no_answer': 'NONE'}, {'annotation_id': 15051359051424338858, 'long_answer': {'candidate_index': 0, 'end_byte': 44666, 'end_token': 161, 'start_byte': 43178, 'start_token': 44}, 'short_answers': [{'end_byte': 44657, 'end_token': 159, 'start_byte': 44318, 'start_token': 140}], 'yes_no_answer': 'NONE'}, {'annotation_id': 5332861748513580580, 'long_answer': {'candidate_index': 0, 'end_byte': 44666, 'end_token': 161, 'start_byte': 43178, 'start_token': 44}, 'short_answers': [], 'yes_no_answer': 'NONE'}]\n"
     ]
    }
   ],
   "source": [
    "import jsonlines\n",
    "with jsonlines.open('/media/stefan/My Passport/NQ-Tables/nq-tables2/raw/sample/nq-dev-sample.jsonl') as f:\n",
    "    for line in f:\n",
    "        print(line[\"long_answer_candidates\"])\n",
    "        print(line[\"question_text\"])\n",
    "        print(line[\"document_title\"])\n",
    "        print(line[\"annotations\"])\n",
    "        break"
   ]
  },
  {
   "cell_type": "code",
   "execution_count": null,
   "metadata": {},
   "outputs": [
    {
     "name": "stdout",
     "output_type": "stream",
     "text": [
      "dict_keys(['example_id', 'contained', 'tables', 'interactions'])\n",
      "columns {\n",
      "  text: \"\"\n",
      "}\n",
      "columns {\n",
      "  text: \"\"\n",
      "}\n",
      "columns {\n",
      "  text: \"Full name\"\n",
      "}\n",
      "columns {\n",
      "  text: \"Nickname(s)\"\n",
      "}\n",
      "columns {\n",
      "  text: \"Founded\"\n",
      "}\n",
      "columns {\n",
      "  text: \"Ground\"\n",
      "}\n",
      "columns {\n",
      "  text: \"Capacity\"\n",
      "}\n",
      "columns {\n",
      "  text: \"Owner\"\n",
      "}\n",
      "columns {\n",
      "  text: \"Chairman\"\n",
      "}\n",
      "columns {\n",
      "  text: \"Manager\"\n",
      "}\n",
      "columns {\n",
      "  text: \"League\"\n",
      "}\n",
      "columns {\n",
      "  text: \"2016\\342\\200\\22317\"\n",
      "}\n",
      "columns {\n",
      "  text: \"Website\"\n",
      "}\n",
      "columns {\n",
      "  text: \"\"\n",
      "}\n",
      "columns {\n",
      "  text: \"\"\n",
      "}\n",
      "columns {\n",
      "  text: \"Home colours\"\n",
      "}\n",
      "columns {\n",
      "  text: \"\"\n",
      "}\n",
      "rows {\n",
      "  cells {\n",
      "    text: \"0\"\n",
      "  }\n",
      "  cells {\n",
      "    text: \"\"\n",
      "  }\n",
      "  cells {\n",
      "    text: \"Reading Football Club\"\n",
      "  }\n",
      "  cells {\n",
      "    text: \"The Royals\"\n",
      "  }\n",
      "  cells {\n",
      "    text: \"1871; 147\\302\\240years ago\"\n",
      "  }\n",
      "  cells {\n",
      "    text: \"Madejski Stadium\"\n",
      "  }\n",
      "  cells {\n",
      "    text: \"24,161[1]\"\n",
      "  }\n",
      "  cells {\n",
      "    text: \"Dai Yongge and Dai Xiuli (majority)\"\n",
      "  }\n",
      "  cells {\n",
      "    text: \"Sir John Madejski\"\n",
      "  }\n",
      "  cells {\n",
      "    text: \"Jaap Stam\"\n",
      "  }\n",
      "  cells {\n",
      "    text: \"Championship\"\n",
      "  }\n",
      "  cells {\n",
      "    text: \"Championship, 3rd\"\n",
      "  }\n",
      "  cells {\n",
      "    text: \"Club website\"\n",
      "  }\n",
      "  cells {\n",
      "    text: \"\"\n",
      "  }\n",
      "  cells {\n",
      "    text: \"Home colours Away colours\"\n",
      "  }\n",
      "  cells {\n",
      "    text: \"Away colours\"\n",
      "  }\n",
      "  cells {\n",
      "    text: \"Current season\"\n",
      "  }\n",
      "}\n",
      "table_id: \"Reading F.C._AC91174877F244D8\"\n",
      "document_title: \"Reading F.C.\"\n",
      "document_url: \"https://en.wikipedia.org//w/index.php?title=Reading_F.C.&amp;oldid=819311942\"\n",
      "\n"
     ]
    }
   ],
   "source": [
    "import sys \n",
    "sys.path.append('/media/stefan/My Passport/University/Courses/IR2/IR2')\n",
    "import jsonlines \n",
    "from data_processing.preprocess_nq_utils import parse\n",
    "import json\n",
    "\n",
    "i = 0\n",
    "with jsonlines.open('/media/stefan/My Passport/NQ-Tables/nq-tables2/raw/sample/nq-dev-sample.jsonl') as f:\n",
    "    for line in f:\n",
    "        parsed = parse(json.dumps(line))\n",
    "        if parsed[\"tables\"] and parsed[\"contained\"]:\n",
    "            print(parsed.keys())\n",
    "            print(parsed['tables'][0])\n",
    "            print(parsed['interactions'][0])\n",
    "            i+=1\n",
    "            break \n",
    "        if i > 5:\n",
    "            break"
   ]
  },
  {
   "cell_type": "code",
   "execution_count": 1,
   "metadata": {},
   "outputs": [
    {
     "name": "stderr",
     "output_type": "stream",
     "text": [
      "/home/stefan/miniconda3/envs/ir2/lib/python3.8/site-packages/tqdm/auto.py:21: TqdmWarning: IProgress not found. Please update jupyter and ipywidgets. See https://ipywidgets.readthedocs.io/en/stable/user_install.html\n",
      "  from .autonotebook import tqdm as notebook_tqdm\n",
      "Generating train split: 100%|██████████| 6715/6715 [01:02<00:00, 107.60 examples/s]\n",
      "Generating validation split: 100%|██████████| 985/985 [00:15<00:00, 64.71 examples/s]\n"
     ]
    }
   ],
   "source": [
    "from datasets import load_dataset\n",
    "\n",
    "ds = load_dataset(\"vaishali/spider-tableQA\")\n",
    "\n"
   ]
  }
 ],
 "metadata": {
  "kernelspec": {
   "display_name": "ir2",
   "language": "python",
   "name": "python3"
  },
  "language_info": {
   "codemirror_mode": {
    "name": "ipython",
    "version": 3
   },
   "file_extension": ".py",
   "mimetype": "text/x-python",
   "name": "python",
   "nbconvert_exporter": "python",
   "pygments_lexer": "ipython3",
   "version": "3.8.20"
  }
 },
 "nbformat": 4,
 "nbformat_minor": 2
}
